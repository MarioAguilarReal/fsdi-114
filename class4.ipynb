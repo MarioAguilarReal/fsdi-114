{
 "cells": [
  {
   "cell_type": "code",
   "execution_count": 48,
   "id": "01857241-4867-4e65-80e7-d77ac9f0eca1",
   "metadata": {},
   "outputs": [],
   "source": [
    "class DoublyLinkedList:\n",
    "    def __init__(self):\n",
    "        self.head = None\n",
    "        #self.tail = None # tail function\n",
    "\n",
    "    class __Node:\n",
    "        def __init__(self, data):\n",
    "            self.data = data\n",
    "            self.next = None\n",
    "            self.prev = None\n",
    "        def __str__(self):\n",
    "            return str(self.data)\n",
    "\n",
    "    \n",
    "    def append(self, value):\n",
    "        \n",
    "        node = self.__Node(value)\n",
    "        if not self.head:\n",
    "            self.head = node\n",
    "            #self.tail = node # tail function\n",
    "        else:\n",
    "            current = self.head\n",
    "            while current.next:\n",
    "                current = current.next\n",
    "            current.next = node\n",
    "            node.prev = current\n",
    "            #self.tail = node # tail function\n",
    "    \n",
    "\n",
    "    def remove(self, value):\n",
    "        msg = \"value not found\"\n",
    "        found = False\n",
    "        if not self.head:\n",
    "            msg = \"Empty List\"\n",
    "\n",
    "        else:\n",
    "            current = self.head\n",
    "            while current.next:\n",
    "                if current.data == value:\n",
    "                    found = True\n",
    "                    break\n",
    "                current = current.next\n",
    "            if found:\n",
    "                prev_node = current.prev\n",
    "                next_node = current.next\n",
    "                if prev_node and next_node:\n",
    "                    prev_node.next = next_node\n",
    "                    next_node.prev = prev_node\n",
    "                elif prev_node:\n",
    "                    prev_node.next = next_node\n",
    "                else:\n",
    "                    self.head = self.head.next\n",
    "        if not found:\n",
    "            raise ValueError(msg)\n",
    "        \n",
    "    def pop(self):\n",
    "        if self.head:\n",
    "            dest = self.head\n",
    "            if dest.next:\n",
    "                self.head = dest.next\n",
    "                self.head.prev = None\n",
    "            else:\n",
    "                self.head = None\n",
    "\n",
    "        raise ValueError(\"The list is empty\")\n",
    "\n",
    "\n",
    "    def __str__(self):\n",
    "        out = \"[\"\n",
    "        currentNode = self.head\n",
    "        if currentNode:\n",
    "            out += \"%s\" % currentNode.data\n",
    "            currentNode = currentNode.next\n",
    "            while currentNode:\n",
    "                out += \", %s\" % currentNode.data\n",
    "                currentNode = currentNode.next\n",
    "                \n",
    "        out += \"]\"\n",
    "        return out"
   ]
  },
  {
   "cell_type": "code",
   "execution_count": 49,
   "id": "9bd07807-c14e-4693-ba72-c380bf0a23d6",
   "metadata": {
    "scrolled": true
   },
   "outputs": [
    {
     "name": "stdout",
     "output_type": "stream",
     "text": [
      "[0, 1, 2, 3, 4, 5, 6, 7, 8, 9]\n",
      "[0, 1, 2, 3, 4, 5, 6, 8, 9]\n"
     ]
    }
   ],
   "source": [
    "dl = DoublyLinkedList()\n",
    "for i in range(10):\n",
    "    dl.append(i)\n",
    "print(dl)\n",
    "dl.remove(7)\n",
    "print(dl)\n"
   ]
  },
  {
   "cell_type": "markdown",
   "id": "e94b9779-56b1-4616-bcf4-d32cd2a64b94",
   "metadata": {},
   "source": [
    "# Recursion"
   ]
  },
  {
   "cell_type": "code",
   "execution_count": 63,
   "id": "f3900293-4e68-41d1-bd9b-7e43b5b5fb3c",
   "metadata": {},
   "outputs": [],
   "source": [
    "# A simple excercise to describe recursion\n",
    "\n",
    "def factorial(n):\n",
    "    if n == 0:                      # base case (or exit condition)\n",
    "        return 1                    #exit condition\n",
    "    return n*factorial(n-1)         #recursive case "
   ]
  },
  {
   "cell_type": "code",
   "execution_count": 67,
   "id": "7ea3d98a-8687-414f-b32f-b49b0c50470f",
   "metadata": {},
   "outputs": [
    {
     "name": "stdout",
     "output_type": "stream",
     "text": [
      "6\n"
     ]
    }
   ],
   "source": [
    "res = factorial(3)\n",
    "print(res)"
   ]
  },
  {
   "cell_type": "code",
   "execution_count": 69,
   "id": "2744f8a3-5f56-47b3-a2e5-1783a1fbfd0e",
   "metadata": {},
   "outputs": [
    {
     "name": "stdout",
     "output_type": "stream",
     "text": [
      "24\n"
     ]
    }
   ],
   "source": [
    "def factorial_i(n):\n",
    "    result = 1\n",
    "    while n:\n",
    "        result *= n\n",
    "        n -= 1\n",
    "    return result\n",
    "\n",
    "print(factorial_i(4))"
   ]
  },
  {
   "cell_type": "code",
   "execution_count": 76,
   "id": "de64d47c-0433-4a99-8e2d-ca4ccc52b536",
   "metadata": {},
   "outputs": [],
   "source": [
    "#illustration of recursive function problems\n",
    "#Memorization using python built-ins\n",
    "from functools import lru_cache\n",
    "\n",
    "@lru_cache\n",
    "def fib(n):\n",
    "    if n < 2:\n",
    "        return n\n",
    "\n",
    "    return (fib(n-1) + fib(n-2))"
   ]
  },
  {
   "cell_type": "code",
   "execution_count": 77,
   "id": "1efa1ced-4c88-4c63-baf8-9fbdeafbfbed",
   "metadata": {},
   "outputs": [
    {
     "data": {
      "text/plain": [
       "21"
      ]
     },
     "execution_count": 77,
     "metadata": {},
     "output_type": "execute_result"
    }
   ],
   "source": [
    "fib(8)"
   ]
  },
  {
   "cell_type": "code",
   "execution_count": 80,
   "id": "1cc6f75d-9873-4141-a93e-fcdafc1ee306",
   "metadata": {},
   "outputs": [
    {
     "data": {
      "text/plain": [
       "12586269025"
      ]
     },
     "execution_count": 80,
     "metadata": {},
     "output_type": "execute_result"
    }
   ],
   "source": [
    "#don't try this at home, unless you have memorization\n",
    "fib(50)"
   ]
  },
  {
   "cell_type": "code",
   "execution_count": 82,
   "id": "a86e1eca-5cf9-4093-b7af-cb17c0302853",
   "metadata": {},
   "outputs": [],
   "source": [
    "#complex solution to catching (from scratch\n",
    "#class HashTable\n",
    "\n",
    "#Slightly less complex solution\n",
    "#Use a dictionary to do the following:\n",
    "#if the parameter to a function is in the dictionary's keys, then return the value from the dictionary\n",
    "#If the parameter to a function is not in the dictionary keys, call the function, but, store the key and value in the dictionary\n",
    "\n",
    "#Let's re-desing our fibonacci function considering this\n",
    "#psudocode only!"
   ]
  },
  {
   "cell_type": "markdown",
   "id": "d9d2bbaa-a699-4e82-a9a1-f64a9bbc8657",
   "metadata": {},
   "source": [
    "1. class HashTable:\n",
    "2.    contructor:\n",
    "3.       diccionario = {}\n",
    "4.   check "
   ]
  },
  {
   "cell_type": "code",
   "execution_count": null,
   "id": "7e44f0dd-42aa-45cc-88f9-6bdc6d68436a",
   "metadata": {},
   "outputs": [],
   "source": []
  }
 ],
 "metadata": {
  "kernelspec": {
   "display_name": "Python 3 (ipykernel)",
   "language": "python",
   "name": "python3"
  },
  "language_info": {
   "codemirror_mode": {
    "name": "ipython",
    "version": 3
   },
   "file_extension": ".py",
   "mimetype": "text/x-python",
   "name": "python",
   "nbconvert_exporter": "python",
   "pygments_lexer": "ipython3",
   "version": "3.8.10"
  }
 },
 "nbformat": 4,
 "nbformat_minor": 5
}
