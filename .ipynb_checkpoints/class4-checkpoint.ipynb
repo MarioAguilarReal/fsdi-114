{
 "cells": [
  {
   "cell_type": "code",
   "execution_count": 18,
   "id": "01857241-4867-4e65-80e7-d77ac9f0eca1",
   "metadata": {},
   "outputs": [],
   "source": [
    "class DoublyLinkedList:\n",
    "    def __init__(self):\n",
    "        self.head = None\n",
    "        #self.tail = None # tail function\n",
    "\n",
    "    class __Node:\n",
    "        def __init__(self, data):\n",
    "            self.data = data\n",
    "            self.next = None\n",
    "            self.prev = None\n",
    "        def __str__(self):\n",
    "            return str(self.data)\n",
    "\n",
    "    \n",
    "    def append(self, value):\n",
    "        \n",
    "        node = self.__Node(value)\n",
    "        if not self.head:\n",
    "            self.head = node\n",
    "            #self.tail = node # tail function\n",
    "        else:\n",
    "            current = self.head\n",
    "            while current.next:\n",
    "                current = current.next\n",
    "            current.next = node\n",
    "            node.prev = current\n",
    "            #self.tail = node # tail function\n",
    "    \n",
    "\n",
    "    def remove(self, value):\n",
    "        msg = \"value not found\"\n",
    "        found = False\n",
    "        if not self.head:\n",
    "            msg = \"Empty List\"\n",
    "\n",
    "        else:\n",
    "            current = self.head\n",
    "            while current.next:\n",
    "                if current.data == value:\n",
    "                    found = True\n",
    "                    break\n",
    "                current = current.next\n",
    "            if found:\n",
    "                prev_node = current.prev\n",
    "                next_node = current.next\n",
    "                if prev_node and next_node:\n",
    "                    prev_node.next = next_node\n",
    "                    next_node.prev = prev_node\n",
    "                elif prev_node:\n",
    "                    prev_node.next = next_node\n",
    "                else:\n",
    "                    self.head = self.head.next\n",
    "        raise ValueError(msg)\n",
    "        \n",
    "    def pop(self):\n",
    "        if self.head:\n",
    "            dest = self.head\n",
    "            if dest.next:\n",
    "                self.head = dest.next\n",
    "                self.head.prev = None\n",
    "            else:\n",
    "                self.head = None\n",
    "\n",
    "        raise ValueError(\"The list is empty\")\n",
    "\n",
    "\n",
    "    def __str__(self):\n",
    "        out = \"[\"\n",
    "        currentNode = self.head\n",
    "        if currentNode:\n",
    "            out += \"%s\" % currentNode.data\n",
    "            currentNode = currentNode.next\n",
    "            while currentNode:\n",
    "                out += \", %s\" % currentNode.data\n",
    "                currentNode = currentNode.next\n",
    "                \n",
    "        out += \"]\"\n",
    "        return out"
   ]
  },
  {
   "cell_type": "code",
   "execution_count": 20,
   "id": "9bd07807-c14e-4693-ba72-c380bf0a23d6",
   "metadata": {},
   "outputs": [
    {
     "name": "stdout",
     "output_type": "stream",
     "text": [
      "[0, 1, 2, 3, 4, 5, 6, 7, 8, 9]\n"
     ]
    },
    {
     "ename": "ValueError",
     "evalue": "List Empty",
     "output_type": "error",
     "traceback": [
      "\u001b[0;31m---------------------------------------------------------------------------\u001b[0m",
      "\u001b[0;31mValueError\u001b[0m                                Traceback (most recent call last)",
      "Cell \u001b[0;32mIn[20], line 5\u001b[0m\n\u001b[1;32m      3\u001b[0m     dl\u001b[38;5;241m.\u001b[39mappend(i)\n\u001b[1;32m      4\u001b[0m \u001b[38;5;28mprint\u001b[39m(dl)\n\u001b[0;32m----> 5\u001b[0m \u001b[43mdl\u001b[49m\u001b[38;5;241;43m.\u001b[39;49m\u001b[43mremove\u001b[49m\u001b[43m(\u001b[49m\u001b[38;5;241;43m1\u001b[39;49m\u001b[43m)\u001b[49m\n",
      "Cell \u001b[0;32mIn[18], line 38\u001b[0m, in \u001b[0;36mDoublyLinkedList.remove\u001b[0;34m(self, value)\u001b[0m\n\u001b[1;32m     35\u001b[0m     \u001b[38;5;28;01melse\u001b[39;00m:\n\u001b[1;32m     36\u001b[0m         \u001b[38;5;28;01mpass\u001b[39;00m\n\u001b[0;32m---> 38\u001b[0m \u001b[38;5;28;01mraise\u001b[39;00m \u001b[38;5;167;01mValueError\u001b[39;00m(\u001b[38;5;124m\"\u001b[39m\u001b[38;5;124mList Empty\u001b[39m\u001b[38;5;124m\"\u001b[39m)\n",
      "\u001b[0;31mValueError\u001b[0m: List Empty"
     ]
    }
   ],
   "source": [
    "dl = DoublyLinkedList()\n",
    "for i in range(10):\n",
    "    dl.append(i)\n",
    "print(dl)\n",
    "dl.remove(1)\n"
   ]
  },
  {
   "cell_type": "code",
   "execution_count": null,
   "id": "c438593c-ef72-44d9-80c3-0f35e6b30677",
   "metadata": {},
   "outputs": [],
   "source": []
  }
 ],
 "metadata": {
  "kernelspec": {
   "display_name": "Python 3 (ipykernel)",
   "language": "python",
   "name": "python3"
  },
  "language_info": {
   "codemirror_mode": {
    "name": "ipython",
    "version": 3
   },
   "file_extension": ".py",
   "mimetype": "text/x-python",
   "name": "python",
   "nbconvert_exporter": "python",
   "pygments_lexer": "ipython3",
   "version": "3.8.10"
  }
 },
 "nbformat": 4,
 "nbformat_minor": 5
}
