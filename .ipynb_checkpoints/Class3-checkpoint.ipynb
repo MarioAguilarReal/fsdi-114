{
 "cells": [
  {
   "cell_type": "markdown",
   "id": "9da706b5-c418-42f9-b91f-98b40ecbbe27",
   "metadata": {},
   "source": [
    "## There are two types of linked lists (in this context):\n",
    "1. Singly Linked Lists\n",
    "2. Doubly Linked List"
   ]
  },
  {
   "cell_type": "code",
   "execution_count": 1,
   "id": "1ac391ca-7785-4c29-ac34-cbbe6c634245",
   "metadata": {},
   "outputs": [
    {
     "ename": "SyntaxError",
     "evalue": "invalid syntax (1461576685.py, line 31)",
     "output_type": "error",
     "traceback": [
      "\u001b[0;36m  Cell \u001b[0;32mIn[1], line 31\u001b[0;36m\u001b[0m\n\u001b[0;31m    else:\u001b[0m\n\u001b[0m    ^\u001b[0m\n\u001b[0;31mSyntaxError\u001b[0m\u001b[0;31m:\u001b[0m invalid syntax\n"
     ]
    }
   ],
   "source": [
    "class SinglyLinkedList:\n",
    "    def __init__(self):\n",
    "        self.head = None\n",
    "        self.tail = None\n",
    "\n",
    "    class __Node:\n",
    "        def __init__(self, data):\n",
    "            self.data = data\n",
    "            self.next = None\n",
    "        def __str__(self):\n",
    "            return str(self.data)\n",
    "\n",
    "    \n",
    "    def append(self, value):\n",
    "        node = self.__Node(value)\n",
    "        if not self.head:\n",
    "            self.head = node \n",
    "            self.tail = node\n",
    "        else:\n",
    "            aux = self.tail\n",
    "            aux.next = node\n",
    "            self.tail = node\n",
    "            \n",
    "\n",
    "    def insert(self, index, value):\n",
    "        node = self.__Node(value)\n",
    "        \n",
    "        if index == 0:\n",
    "            aux = self.head\n",
    "            if not aux:\n",
    "                self.head = node\n",
    "                self.tail = node\n",
    "            else:\n",
    "                self.head = node\n",
    "                node.next = aux\n",
    "                \n",
    "        elif index >= 1 and not self.head.next:\n",
    "            self.head.next = node\n",
    "            self.tail = node\n",
    "            \n",
    "        else:\n",
    "            count = 0\n",
    "            currentNode = self.head\n",
    "            while currentNode.next and index != count:\n",
    "                count += 1\n",
    "                prev = currentNode\n",
    "                currentNode = currentNode.next\n",
    "            if index == count:\n",
    "                prev.next = node \n",
    "                node.next = currentNode\n",
    "            else:\n",
    "    \n",
    "                currentNode.next = node\n",
    "                self.tail = node\n",
    "\n",
    "    \n",
    "    def remove(self, value):\n",
    "        # remove first occurrence of value; ValueError if not present\n",
    "        found = False\n",
    "        if self.head:\n",
    "            currentNode = self.head\n",
    "            prev = None\n",
    "            while currentNode.next and not found:\n",
    "                if currentNode.data == value:\n",
    "                    found = True\n",
    "                else:\n",
    "                    prev = currentNode\n",
    "                    currentNode = currentNode.next\n",
    "            if prev and found:\n",
    "                if currentNode.next:\n",
    "                    prev.next = currentNode.next\n",
    "                else:\n",
    "                    prev.next = None \n",
    "                    prev = self.tail\n",
    "            if not prev and found:\n",
    "                self.head = None\n",
    "                self.tail = None\n",
    "        raise ValueError(\"Target Value not in list\")\n",
    "\n",
    "    def index(self, value):\n",
    "        #return the first index of a target value\n",
    "        count = 0\n",
    "        if self.head:\n",
    "            currentNode = self.head\n",
    "            \n",
    "            if not currentNode.next:\n",
    "                return count\n",
    "\n",
    "            while currentNode.next:\n",
    "                count += 1\n",
    "                currentNode = currentNode.next\n",
    "                if currentNode.data == value:\n",
    "                    return count\n",
    "        raise ValueError(\"Target value not in List\")\n",
    "\n",
    "    \n",
    "    def access(self, index):\n",
    "        if self.head:\n",
    "            count = 0\n",
    "            currentNode = self.head\n",
    "            while currentNode:\n",
    "                if count == index:\n",
    "                    return currentNode.data\n",
    "                count +=1\n",
    "                currentNode = currentNode.next\n",
    "        raise ValueError(\"Target value not in List\") \n",
    "\n",
    "    \n",
    "    def __str__(self):\n",
    "        out = \"[\"\n",
    "        currentNode = self.head\n",
    "        if currentNode:\n",
    "            out += \"%s\" % currentNode.data\n",
    "            currentNode = currentNode.next\n",
    "            while currentNode:\n",
    "                out += \", %s\" % currentNode.data\n",
    "                currentNode = currentNode.next\n",
    "                \n",
    "        out += \"]\"\n",
    "        return out\n"
   ]
  },
  {
   "cell_type": "code",
   "execution_count": 3,
   "id": "36e754fe-70b3-498f-a466-632c55037da3",
   "metadata": {},
   "outputs": [
    {
     "name": "stdout",
     "output_type": "stream",
     "text": [
      "[0, 1, 2, 3, 4, 5, 6, 7, 8, 9, 10]\n"
     ]
    }
   ],
   "source": [
    "sll = SinglyLinkedList()\n",
    "for i in range(11):\n",
    "    sll.append(i)\n",
    "\n",
    "print(sll)"
   ]
  },
  {
   "cell_type": "code",
   "execution_count": 4,
   "id": "c93ed21d-94ba-43a1-9e5f-d530863e135d",
   "metadata": {},
   "outputs": [
    {
     "name": "stdout",
     "output_type": "stream",
     "text": [
      "[0, 1, 2, 3, 4, 5, 6, 7, 8, 9, 10, 2]\n"
     ]
    }
   ],
   "source": [
    "sll.insert(20, 2)\n",
    "print(sll)"
   ]
  },
  {
   "cell_type": "code",
   "execution_count": 7,
   "id": "6aeacc80-bc5f-4f73-81dd-69cc9a92e90c",
   "metadata": {},
   "outputs": [
    {
     "name": "stdout",
     "output_type": "stream",
     "text": [
      "5\n",
      "0\n"
     ]
    }
   ],
   "source": [
    "print(sll.index(5))\n",
    "print(sll.access(0))"
   ]
  },
  {
   "cell_type": "code",
   "execution_count": null,
   "id": "f01555b7-cdc8-47fd-b334-55a075b9e335",
   "metadata": {},
   "outputs": [],
   "source": []
  }
 ],
 "metadata": {
  "kernelspec": {
   "display_name": "Python 3 (ipykernel)",
   "language": "python",
   "name": "python3"
  },
  "language_info": {
   "codemirror_mode": {
    "name": "ipython",
    "version": 3
   },
   "file_extension": ".py",
   "mimetype": "text/x-python",
   "name": "python",
   "nbconvert_exporter": "python",
   "pygments_lexer": "ipython3",
   "version": "3.8.10"
  }
 },
 "nbformat": 4,
 "nbformat_minor": 5
}
