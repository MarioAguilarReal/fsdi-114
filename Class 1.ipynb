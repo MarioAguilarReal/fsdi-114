{
 "cells": [
  {
   "cell_type": "code",
   "execution_count": 5,
   "id": "af648e4f-3616-4115-a9c1-9618d5be9010",
   "metadata": {},
   "outputs": [],
   "source": [
    "for letter in \"hello\":\n",
    "    pass#print(letter)\n"
   ]
  },
  {
   "cell_type": "markdown",
   "id": "8d914b63-42bc-4389-b805-eb1f23793816",
   "metadata": {},
   "source": [
    "# Problem 1\n",
    "### Given two strings (string_a ans string_b), create a function that returns True if these are anagrams of each other, False otherwise.\n",
    "\n",
    "### Creteria\n",
    "two strings are anagrams of each other if both of the following conditions are met:\n",
    "1. Ther must use all the same \"letters\" (the same amount of times).\n",
    "2. Ther must be of the same exact lenght.\n",
    "\n",
    "```\n",
    "Examples:\n",
    "heart and earth\n",
    "scar and cars\n",
    "rats and star\n",
    "```\n"
   ]
  },
  {
   "cell_type": "code",
   "execution_count": 6,
   "id": "831cd4e1-e953-43d8-81c3-dcacb7fe8a81",
   "metadata": {},
   "outputs": [],
   "source": [
    "#Get two diferent strings\n",
    "#Convert strings to lowercase\n",
    "#Delete all spaces between words\n",
    "#compare the length of the strings\n",
    "#    If is equal\n",
    "#       Here I know that only exist 26 characters in the alphabet\n",
    "#       Traverse the first string and add to an array the count of times that a letter appears in the string\n",
    "#       For example the value of \"a\" is 97 and the value of \"z\" is 122\n",
    "#       If I subtract 97 from 122, the result is 25, and 97(a) - 98(b) is 1\n",
    "#       Then I'll compare the arrays, and if all components of the array are equalsm it is an anagram\n",
    "#    if is not equal\n",
    "#       do nothing"
   ]
  },
  {
   "cell_type": "code",
   "execution_count": 3,
   "id": "ad0919be-542a-49a4-877c-1cb2615aaf06",
   "metadata": {},
   "outputs": [
    {
     "name": "stdin",
     "output_type": "stream",
     "text": [
      "Enter the word 1:  earth\n",
      "Enter the word 2:  heart\n"
     ]
    },
    {
     "name": "stdout",
     "output_type": "stream",
     "text": [
      "True\n"
     ]
    }
   ],
   "source": [
    "def is_anagram(string_a, string_b):\n",
    "    if len(string_a) == len(string_b): \n",
    "        a = [0]*26\n",
    "        b = [0]*26\n",
    "        equals = True\n",
    "\n",
    "        for i in string_a:\n",
    "            a[ord(i) - ord('a')] += 1\n",
    "\n",
    "        for i in string_b:\n",
    "            b[ord(i) - ord('a')] += 1\n",
    "    \n",
    "        for i in range(26):\n",
    "            if a[i]!= b[i]:\n",
    "                equals = False\n",
    "                break\n",
    "\n",
    "        return equals\n",
    "\n",
    "string_a = input(\"Enter the word 1: \")\n",
    "string_b = input(\"Enter the word 2: \")\n",
    "\n",
    "resp = is_anagram(string_a.lower().replace(\" \", \"\"), string_b.lower().replace(\" \", \"\"))\n",
    "\n",
    "print(resp)"
   ]
  },
  {
   "cell_type": "code",
   "execution_count": null,
   "id": "7ec849f7-e626-49ba-aed4-9e2967ed76dc",
   "metadata": {},
   "outputs": [],
   "source": []
  }
 ],
 "metadata": {
  "kernelspec": {
   "display_name": "Python 3 (ipykernel)",
   "language": "python",
   "name": "python3"
  },
  "language_info": {
   "codemirror_mode": {
    "name": "ipython",
    "version": 3
   },
   "file_extension": ".py",
   "mimetype": "text/x-python",
   "name": "python",
   "nbconvert_exporter": "python",
   "pygments_lexer": "ipython3",
   "version": "3.8.10"
  }
 },
 "nbformat": 4,
 "nbformat_minor": 5
}
