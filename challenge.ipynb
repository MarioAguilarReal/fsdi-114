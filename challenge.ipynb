{
 "cells": [
  {
   "cell_type": "code",
   "execution_count": 1,
   "metadata": {},
   "outputs": [],
   "source": [
    "class QueueII:\n",
    "    def __init__(self):\n",
    "        self.front = None\n",
    "        self.queue = None\n",
    "\n",
    "    class __Node:\n",
    "        def __init__(self, data):\n",
    "            self.back = None\n",
    "            self.data = data\n",
    "\n",
    "        def __str__(self):\n",
    "            return str(self.data)\n",
    "\n",
    "    def enqueue(self, element):\n",
    "        new_node = self.__Node(element)\n",
    "        if not self.front:\n",
    "            self.front = new_node\n",
    "            self.queue = new_node\n",
    "        else:\n",
    "            self.queue.back = new_node\n",
    "            self.queue = new_node\n",
    "\n",
    "    def dequeue(self):\n",
    "        if self.front:\n",
    "            aux = self.front\n",
    "            self.front = aux.back\n",
    "            return aux.data\n",
    "            \n",
    "        raise IndexError(\"Empty stack\")\n",
    "\n",
    "    def size(self):\n",
    "        count = 0\n",
    "        current_node = self.front\n",
    "        while current_node:\n",
    "            print(current_node.data)\n",
    "            count += 1\n",
    "            current_node = current_node.back\n",
    "        return count\n",
    "\n",
    "    def is_empty(self):\n",
    "        if self.front == None:\n",
    "            return True\n",
    "        return False\n",
    "\n",
    "    def peek(self):\n",
    "        print(self.front)\n",
    "        if self.front:\n",
    "            return self.front.data\n",
    "        raise IndexError(\"Empty stack\")\n",
    "    "
   ]
  },
  {
   "cell_type": "code",
   "execution_count": 2,
   "metadata": {},
   "outputs": [],
   "source": [
    "from random import randint\n",
    "\n",
    "class Problem:\n",
    "    def __init__(self):\n",
    "        self.lvalue = randint(1, 10)\n",
    "        self.rvalue = randint(1, 10)\n",
    "        self.result = self.lvalue * self.rvalue\n",
    "\n",
    "    def __str__(self):\n",
    "        return \"%s x %s = \" % (self.lvalue, self.rvalue)\n",
    "\n",
    "    def compare_result(self, answer):\n",
    "        return int(answer) == self. result\n"
   ]
  },
  {
   "cell_type": "code",
   "execution_count": 3,
   "metadata": {},
   "outputs": [
    {
     "name": "stdin",
     "output_type": "stream",
     "text": [
      "8 x 7 =  23\n"
     ]
    },
    {
     "name": "stdout",
     "output_type": "stream",
     "text": [
      "Points:  -2\n"
     ]
    },
    {
     "name": "stdin",
     "output_type": "stream",
     "text": [
      "2 x 3 =  6\n"
     ]
    },
    {
     "name": "stdout",
     "output_type": "stream",
     "text": [
      "Points:  -1\n"
     ]
    },
    {
     "name": "stdin",
     "output_type": "stream",
     "text": [
      "1 x 7 =  7\n"
     ]
    },
    {
     "name": "stdout",
     "output_type": "stream",
     "text": [
      "Points:  0\n"
     ]
    },
    {
     "name": "stdin",
     "output_type": "stream",
     "text": [
      "4 x 6 =  24\n"
     ]
    },
    {
     "name": "stdout",
     "output_type": "stream",
     "text": [
      "Points:  1\n"
     ]
    },
    {
     "name": "stdin",
     "output_type": "stream",
     "text": [
      "8 x 6 =  48\n"
     ]
    },
    {
     "name": "stdout",
     "output_type": "stream",
     "text": [
      "Points:  2\n",
      "Final Score:  2\n"
     ]
    }
   ],
   "source": [
    "\n",
    "def play_game():\n",
    "    queue = QueueII()\n",
    "    points = 0\n",
    "    for i in range(5):\n",
    "        prob = Problem()\n",
    "        queue.enqueue(prob)\n",
    "        \n",
    "    while not queue.is_empty():\n",
    "        prob = queue.dequeue()\n",
    "        if prob.compare_result(input(prob)):\n",
    "            points += 1\n",
    "        else:\n",
    "            points -= 2\n",
    "        print(\"Points: \", points)\n",
    "    print(\"Final Score: \", points)\n",
    "         \n",
    "\n",
    "play_game()"
   ]
  },
  {
   "cell_type": "code",
   "execution_count": null,
   "metadata": {},
   "outputs": [],
   "source": []
  }
 ],
 "metadata": {
  "kernelspec": {
   "display_name": "Python 3 (ipykernel)",
   "language": "python",
   "name": "python3"
  },
  "language_info": {
   "codemirror_mode": {
    "name": "ipython",
    "version": 3
   },
   "file_extension": ".py",
   "mimetype": "text/x-python",
   "name": "python",
   "nbconvert_exporter": "python",
   "pygments_lexer": "ipython3",
   "version": "3.8.10"
  }
 },
 "nbformat": 4,
 "nbformat_minor": 4
}
