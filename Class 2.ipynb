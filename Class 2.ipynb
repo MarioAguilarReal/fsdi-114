{
 "cells": [
  {
   "cell_type": "markdown",
   "id": "b95eb39e-87fe-4ee2-89ec-805b3ab06fbc",
   "metadata": {},
   "source": [
    "# Class 2: Stacks and Queues"
   ]
  },
  {
   "cell_type": "code",
   "execution_count": 22,
   "id": "b6cd0380-12f5-4a73-92ad-01cc2ee24d51",
   "metadata": {},
   "outputs": [],
   "source": [
    "# Simplified implementation of stack (replying on build-in data structures)\n",
    "\n",
    "class Stack:\n",
    "    def __init__(self):\n",
    "        self.items = []\n",
    "\n",
    "    def push(self, element):\n",
    "        self.items.append(element)\n",
    "\n",
    "    def pop(self):\n",
    "        return self.items.pop()\n",
    "\n",
    "    #nice to hace methods:\n",
    "    def size(self):\n",
    "        return len(self.items)\n",
    "\n",
    "    def is_empty(self):\n",
    "        return self.items == []\n",
    "\n",
    "    def peek(self):\n",
    "        return self.items[(len(self.items-1))]\n"
   ]
  },
  {
   "cell_type": "code",
   "execution_count": 29,
   "id": "c28377f4-cfe0-4bd3-b0f8-940513309103",
   "metadata": {},
   "outputs": [
    {
     "name": "stdout",
     "output_type": "stream",
     "text": [
      "Insert your string mario\n"
     ]
    },
    {
     "name": "stdout",
     "output_type": "stream",
     "text": [
      "oiram\n"
     ]
    }
   ],
   "source": [
    "# use tha stack class above to invert  a string\n",
    "\n",
    "def invert_str(mystring):\n",
    "    \n",
    "    st = Stack()\n",
    "    n_string = \"\"\n",
    "    \n",
    "    for i in mystring:\n",
    "        st.push(i)\n",
    "        \n",
    "    if not st.is_empty(): \n",
    "        while not st.is_empty():\n",
    "            n_string+=st.pop()\n",
    "        return n_string\n",
    "    else:\n",
    "        print(\"String empty\")\n",
    "    \n",
    "\n",
    "mstring = input(\"Insert your string\")\n",
    "\n",
    "inv_string = invert_str(mstring)\n",
    "print(inv_string)"
   ]
  },
  {
   "cell_type": "code",
   "execution_count": 36,
   "id": "67570d56-7631-4900-96f1-dea73eccf3f9",
   "metadata": {},
   "outputs": [],
   "source": [
    "# \"from scratch\" implementation of stack\n",
    "\n",
    "class StackII:\n",
    "    def __init__(self):\n",
    "        self.top = None\n",
    "\n",
    "    class __Node:\n",
    "        def __init__(self, data):\n",
    "            self.below = None\n",
    "            self.data = data\n",
    "\n",
    "        def __str__(self):\n",
    "            return str(self.data)\n",
    "\n",
    "    def push(self, element):\n",
    "        new_node = self.__Node(element)\n",
    "        if not self.top:\n",
    "            self.top = new_node\n",
    "        else:\n",
    "            old_top = self.top\n",
    "            new_node.below = old_top\n",
    "            self.top = new_node\n",
    "\n",
    "    def pop(self):\n",
    "        if self.top:\n",
    "            top_value = self.top.data\n",
    "            self.top = self.top.below\n",
    "            return top_value\n",
    "\n",
    "        raise IndexError(\"Empty stack\")\n",
    "\n",
    "    def size(self):\n",
    "        count = 0\n",
    "        current_node = self.top\n",
    "        while current_node:\n",
    "            count += 1\n",
    "            current_node = current_node.below\n",
    "        return count\n",
    "\n",
    "    def is_empty(self):\n",
    "        if self.top == None:\n",
    "            return True\n",
    "        return False\n",
    "\n",
    "    def peek(self):\n",
    "        if self.top:\n",
    "            return self.top.data\n",
    "        raise IndexError(\"Empty stack\")\n",
    "        "
   ]
  },
  {
   "cell_type": "code",
   "execution_count": 38,
   "id": "1e52eb49-5e4c-4326-b5a1-85f417e44a18",
   "metadata": {},
   "outputs": [
    {
     "name": "stdout",
     "output_type": "stream",
     "text": [
      "Result:oiraM\n"
     ]
    }
   ],
   "source": [
    "def invert_str_ii(mystring):\n",
    "    stack = StackII()\n",
    "    for letter in mystring:\n",
    "        stack.push(letter)\n",
    "        \n",
    "    out = \"\"\n",
    "    while not stack.is_empty():\n",
    "        out += stack.pop()\n",
    "    return out\n",
    "\n",
    "print(\"Result:\" + invert_str_ii(\"Mario\"))"
   ]
  },
  {
   "cell_type": "code",
   "execution_count": 40,
   "id": "0ec9ba61-d9df-415a-b89c-f42d3d0846b5",
   "metadata": {},
   "outputs": [],
   "source": [
    "#Simplified  approach to queue (relying on built-in data structural)\n",
    "\n",
    "class Queue:\n",
    "    def __init__(self):\n",
    "        self.items = []\n",
    "\n",
    "    def enqueue(self, element):\n",
    "        self.items.insert(0, element)\n",
    "\n",
    "    def dequeue(self):\n",
    "        return self.items.pop()\n",
    "\n",
    "    #nice to have\n",
    "    def size(self):\n",
    "        return len(self.items)\n",
    "\n",
    "    def is_empty(self):\n",
    "        return self.items == []\n",
    "\n",
    "    def peek(self):\n",
    "        return self.items(len(self.items-1))"
   ]
  },
  {
   "cell_type": "markdown",
   "id": "f70942d7-e4f0-47ee-bc3d-4bfbc0fc7575",
   "metadata": {},
   "source": [
    "# Problem 1\n",
    "\n",
    "## implement QueueII, a \"from scratch\" implementation of Queue.\n",
    "\n",
    "### Criteria\n",
    "your queue class should, at a minimum cover the following features:\n",
    "1. Must be able to enqueue (from one end)\n",
    "2. must be able to dequeue (deo the end opposite to where element are enqueued)\n",
    "3. Must have a size method that returns how many elements are in the queue\n",
    "4. Must have an is_empty method that returns `True` if  queue is empty, `Flase` otherwise\n",
    "5. Must have a peek method that return the topmost `value` in the queue\n",
    "\n",
    "## Note\n",
    "You should not use any built.in data structures, "
   ]
  },
  {
   "cell_type": "code",
   "execution_count": 62,
   "id": "d1b24207-08a1-45fb-82f6-5da76f1ed111",
   "metadata": {},
   "outputs": [],
   "source": [
    "class QueueII:\n",
    "    def __init__(self):\n",
    "        self.front = None\n",
    "\n",
    "    class __Node:\n",
    "        def __init__(self, data):\n",
    "            self.back = None\n",
    "            self.data = data\n",
    "\n",
    "        def __str__(self):\n",
    "            return str(self.data)\n",
    "\n",
    "    def enqueue(self, element):\n",
    "        new_node = self.__Node(element)\n",
    "        if not self.front:\n",
    "            self.front = new_node\n",
    "        else:\n",
    "            current_node = self.front\n",
    "            while current_node.back:\n",
    "                current_node = current_node.back\n",
    "            current_node.back = new_node\n",
    "\n",
    "    def dequeue(self):\n",
    "        if self.front:\n",
    "            aux = self.front\n",
    "            self.front = aux.back\n",
    "            return aux.data\n",
    "            \n",
    "        raise IndexError(\"Empty stack\")\n",
    "\n",
    "    def size(self):\n",
    "        count = 0\n",
    "        current_node = self.front\n",
    "        while current_node:\n",
    "            print(current_node.data)\n",
    "            count += 1\n",
    "            current_node = current_node.back\n",
    "        return count\n",
    "\n",
    "    def is_empty(self):\n",
    "        if self.front == None:\n",
    "            return True\n",
    "        return False\n",
    "\n",
    "    def peek(self):\n",
    "        print(self.front)\n",
    "        if self.front:\n",
    "            return self.front.data\n",
    "        raise IndexError(\"Empty stack\")\n",
    "        "
   ]
  },
  {
   "cell_type": "code",
   "execution_count": 63,
   "id": "845d43b7-2a8f-4bd5-a019-073d27ff25c0",
   "metadata": {},
   "outputs": [
    {
     "name": "stdout",
     "output_type": "stream",
     "text": [
      "Result:Mario\n"
     ]
    }
   ],
   "source": [
    "def test_queue(mystring):\n",
    "    queue = QueueII()\n",
    "    for letter in mystring:\n",
    "        queue.enqueue(letter)\n",
    "        \n",
    "    out = \"\"\n",
    "    while not queue.is_empty():\n",
    "        out += queue.dequeue()\n",
    "    return out\n",
    "print(\"Result:\" + test_queue(\"Mario\"))"
   ]
  },
  {
   "cell_type": "code",
   "execution_count": 64,
   "id": "e4c42cc4-e50f-4954-874f-4f2a3c888f06",
   "metadata": {},
   "outputs": [],
   "source": [
    "from random import randint\n",
    "\n",
    "class Problem:\n",
    "    def __init__(self):\n",
    "        self.lvalue = randint(1, 10)\n",
    "        self.rvalue = randint(1, 10)\n",
    "        self.result = self.lvalue * self.rvalue\n",
    "\n",
    "    def __str__(self):\n",
    "        return \"%s x %s = \" % (self.lvalue, self.rvalue)\n",
    "\n",
    "    def compare_result(self, answer):\n",
    "        return int(answer) == self. result"
   ]
  },
  {
   "cell_type": "code",
   "execution_count": null,
   "id": "e84a4503-3882-4b67-8692-354d2c10c2bf",
   "metadata": {},
   "outputs": [],
   "source": [
    "prob = Problem()\n",
    "\n",
    "if prob.compare_result(input(prob)):\n",
    "    print(\"success\")\n",
    "\n",
    "else:\n",
    "    print(\"fail\")"
   ]
  },
  {
   "cell_type": "code",
   "execution_count": null,
   "id": "6dedef2a",
   "metadata": {},
   "outputs": [],
   "source": [
    "for i in range (3):\n",
    "    prob"
   ]
  }
 ],
 "metadata": {
  "kernelspec": {
   "display_name": "Python 3 (ipykernel)",
   "language": "python",
   "name": "python3"
  },
  "language_info": {
   "codemirror_mode": {
    "name": "ipython",
    "version": 3
   },
   "file_extension": ".py",
   "mimetype": "text/x-python",
   "name": "python",
   "nbconvert_exporter": "python",
   "pygments_lexer": "ipython3",
   "version": "3.8.10"
  }
 },
 "nbformat": 4,
 "nbformat_minor": 5
}
